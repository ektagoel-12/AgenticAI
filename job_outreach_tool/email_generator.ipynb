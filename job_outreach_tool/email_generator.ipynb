{
 "cells": [
  {
   "cell_type": "code",
   "execution_count": null,
   "id": "c11f92e7",
   "metadata": {},
   "outputs": [],
   "source": [
    "from langchain_groq import ChatGroq\n",
    "import os\n",
    "\n",
    "llm = ChatGroq(\n",
    "    model=\"llama3-70b-8192\",\n",
    "    temperature=0,\n",
    "#     max_tokens=None,\n",
    "    groq_api_key=os.getenv(\"GROQ_API_KEY\")\n",
    ")"
   ]
  },
  {
   "cell_type": "code",
   "execution_count": 6,
   "id": "e11673c9",
   "metadata": {},
   "outputs": [
    {
     "data": {
      "text/plain": [
       "\"Job Application for Software Engineer I, Internal Tools (Frontend) at CourseraNewSoftware Engineer I, Internal Tools (Frontend)IndiaApplyCoursera was launched in 2012 by Andrew Ng and Daphne Koller, with a mission to provide universal access to world-class learning. It is now one of the largest online learning platforms in the world, with 175 million registered learners as of March 31, 2025. Coursera partners with over 350 leading universities and industry leaders to offer a broad catalog of content and credentials, including courses, Specializations, Professional Certificates, and degrees. Coursera’s platform innovations enable instructors to deliver scalable, personalized, and verified learning experiences to their learners. Institutions worldwide rely on Coursera to upskill and reskill their employees, citizens, and students in high-demand fields such as GenAI, data science, technology, and business. Coursera is a Delaware public benefit corporation and a B Corp.\\nJoin us in our mission to create a world where anyone, anywhere can transform their life through access to education. We're seeking talented individuals who share our passion and drive to revolutionize the way the world learns.\\nAt Coursera, we are committed to building a globally diverse team and are thrilled to extend employment opportunities to individuals in any country where we have a legal entity. We require candidates to possess eligible working rights and have a compatible timezone overlap with their team to facilitate seamless collaboration.\\xa0\\nCoursera has a commitment to enabling flexibility and workspace choices for employees. Our interviews and onboarding are entirely virtual, providing a smooth and efficient experience for our candidates. As an employee, we enable you to select your main way of working, whether it's from home, one of our offices or hubs, or a co-working space near you.\\xa0We are looking for an enthusiastic Software Engineer I to join our Internal Tools team at Coursera. This team builds tools that help our employees work more efficiently and improve how we run our business. As part of this team, you’ll work on meaningful projects and grow your skills under the guidance of experienced engineers.\\n\\xa0\\nKey Responsibilities\\n\\nAssist in building and improving web-based internal tools used by various teams at Coursera.\\nWrite clean, efficient, and maintainable code with support from your team.\\nWork with product managers and other engineers to understand user needs and deliver solutions.\\nLearn and apply best practices for full-stack development, including front-end and back-end systems.\\nHelp maintain documentation, fix bugs, and test features to ensure quality.\\nContribute to team discussions and share your ideas during design and planning phases.\\n\\nQualifications\\nEducation:\\n\\nBachelor’s degree in Computer Science, Engineering, or a related field (completed or in final year).\\n\\nSkills & Experience:\\n\\n1-2 years\\xa0of total experience\\nStrong foundation in programming concepts, data structures, and algorithms.\\nFamiliarity with web development technologies (HTML, CSS, JavaScript).\\nExposure to front-end frameworks like React, Angular, or Vue.js is a plus.\\nBasic understanding of REST APIs or CRUD operations.\\nStrong willingness to learn and adapt in a collaborative environment.Good communication skills and a proactive mindset.\\n\\nWhy Join Us?\\n\\nWork with passionate teammates and supportive mentors.\\nSolve real-world problems that make an impact on education globally.\\nGrow your technical and professional skills through structured development opportunities.\\nBe part of a mission-driven company that values learning, integrity, and innovation.\\nCoursera is an\\xa0Equal Employment Opportunity Employer and considers all qualified applicants without regard to race, color, religion, sex, sexual orientation, gender identity, age, marital status, national origin, protected veteran status, disability, or any other legally protected class.\\n\\xa0\\nIf you are an individual with a disability and require a reasonable accommodation to complete any part of the application process, please contact us at accommodations@coursera.org.\\n\\xa0\\nFor California Candidates, please review our CCPA Applicant Notice here.\\nFor our Global Candidates, please review our GDPR Recruitment Notice here.\\n\\xa0\\n#LI-RemoteApply for this job*indicates a required fieldFirst Name*Last Name*Email*Phone*Resume/CV*AttachAttachDropboxGoogle DriveEnter manuallyEnter manuallyAccepted file types: pdf, doc, docx, txt, rtfCover LetterAttachAttachDropboxGoogle DriveEnter manuallyEnter manuallyAccepted file types: pdf, doc, docx, txt, rtfLinkedIn ProfileAre you legally authorized to work for any employer in this country?*Select...Will you now or in the future require sponsorship of an employment visa?*Select...Are you currently residing in this country?*Select...What city and state do you reside in?*COURSERA IS A U.S. GOVERNMENT CONTRACTOR AND WE ARE REQUIRED TO INQUIRE ABOUT CONFLICTS BEFORE WE CAN RECRUIT CURRENT OR FORMER GOVERNMENT EMPLOYEES. IF THIS APPLIES TO YOU, WE REQUEST A LETTER FROM YOUR SUPERVISOR THAT THEY HAVE BEEN INFORMED ABOUT YOUR CONTACT WITH COURSERA (OR AS A FORMER EMPLOYEE, A LETTER STATING AN ETHICS OPINION WHICH IDENTIFIES ANY LIMITATIONS WHICH APPLY TO YOUR WORK IN THE PRIVATE SECTOR). THE LETTER SHOULD IDENTIFY ANY CONFLICTS OR POTENTIAL CONFLICTS, IF ANY EXIST.AttachAttachDropboxGoogle DriveAccepted file types: pdf, doc, docx, txt, rtfCurrent Company*Current Title*Submit applicationPowered byGreenhouseRead our Privacy Policy\""
      ]
     },
     "execution_count": 6,
     "metadata": {},
     "output_type": "execute_result"
    }
   ],
   "source": [
    "from langchain_community.document_loaders import WebBaseLoader\n",
    "\n",
    "loader = WebBaseLoader(\"https://job-boards.greenhouse.io/coursera/jobs/5554771004?gh_src=6d6e4f994us\")\n",
    "page_data=loader.load().pop().page_content\n",
    "page_data"
   ]
  },
  {
   "cell_type": "code",
   "execution_count": 10,
   "id": "df45e722",
   "metadata": {},
   "outputs": [
    {
     "name": "stdout",
     "output_type": "stream",
     "text": [
      "{\n",
      "\"role\": \"Software Engineer I, Internal Tools (Frontend)\",\n",
      "\"experience\": \"1-2 years\",\n",
      "\"skills\": [\"Strong foundation in programming concepts, data structures, and algorithms\", \"Familiarity with web development technologies (HTML, CSS, JavaScript)\", \"Exposure to front-end frameworks like React, Angular, or Vue.js is a plus\", \"Basic understanding of REST APIs or CRUD operations\", \"Good communication skills and a proactive mindset\"],\n",
      "\"description\": \"Assist in building and improving web-based internal tools used by various teams at Coursera. Write clean, efficient, and maintainable code with support from your team. Work with product managers and other engineers to understand user needs and deliver solutions. Learn and apply best practices for full-stack development, including front-end and back-end systems. Help maintain documentation, fix bugs, and test features to ensure quality. Contribute to team discussions and share your ideas during design and planning phases.\"\n",
      "}\n",
      "<class 'str'>\n"
     ]
    }
   ],
   "source": [
    "from langchain_core.prompts import PromptTemplate\n",
    "\n",
    "prompt_extract = PromptTemplate.from_template(\n",
    "       \"\"\"\n",
    "### SCRAPED TEXT FROM WEBSITE\n",
    "{page_data}\n",
    "\n",
    "### INSTRUCTION\n",
    "The scraped text is from a careers page.\n",
    "Extract all job postings and return them **only** in **valid JSON format** using the following keys: `role`, `experience`, `skills`, and `description`.\n",
    "\n",
    "Do **not** include any explanation, heading, or preamble.  \n",
    "Do **not** wrap the JSON in triple backticks.  \n",
    "Do **not** say anything like \"Here's the result\" or \"Below is the JSON\".\n",
    "\n",
    "Just return **pure JSON**, beginning with `{{` and ending with `}}`.\n",
    "\n",
    "### OUTPUT:\n",
    "\"\"\"\n",
    "\n",
    ")\n",
    "\n",
    "chain_extract= prompt_extract | llm\n",
    "res=chain_extract.invoke(input={'page_data': page_data})\n",
    "print(res.content)\n",
    "print(type(res.content))\n"
   ]
  },
  {
   "cell_type": "code",
   "execution_count": 11,
   "id": "f51d80ee",
   "metadata": {},
   "outputs": [
    {
     "name": "stdout",
     "output_type": "stream",
     "text": [
      "<class 'dict'>\n"
     ]
    }
   ],
   "source": [
    "from langchain_core.output_parsers import JsonOutputParser\n",
    "\n",
    "json_parser=JsonOutputParser()\n",
    "json_res=json_parser.parse(res.content)\n",
    "json_res\n",
    "print(type(json_res))"
   ]
  },
  {
   "cell_type": "code",
   "execution_count": 12,
   "id": "794a4712",
   "metadata": {},
   "outputs": [
    {
     "data": {
      "text/html": [
       "<div>\n",
       "<style scoped>\n",
       "    .dataframe tbody tr th:only-of-type {\n",
       "        vertical-align: middle;\n",
       "    }\n",
       "\n",
       "    .dataframe tbody tr th {\n",
       "        vertical-align: top;\n",
       "    }\n",
       "\n",
       "    .dataframe thead th {\n",
       "        text-align: right;\n",
       "    }\n",
       "</style>\n",
       "<table border=\"1\" class=\"dataframe\">\n",
       "  <thead>\n",
       "    <tr style=\"text-align: right;\">\n",
       "      <th></th>\n",
       "      <th>Techstack</th>\n",
       "      <th>Links</th>\n",
       "    </tr>\n",
       "  </thead>\n",
       "  <tbody>\n",
       "    <tr>\n",
       "      <th>0</th>\n",
       "      <td>React, Node.js, MongoDB</td>\n",
       "      <td>https://example.com/react-portfolio</td>\n",
       "    </tr>\n",
       "    <tr>\n",
       "      <th>1</th>\n",
       "      <td>Angular,.NET, SQL Server</td>\n",
       "      <td>https://example.com/angular-portfolio</td>\n",
       "    </tr>\n",
       "    <tr>\n",
       "      <th>2</th>\n",
       "      <td>Vue.js, Ruby on Rails, PostgreSQL</td>\n",
       "      <td>https://example.com/vue-portfolio</td>\n",
       "    </tr>\n",
       "    <tr>\n",
       "      <th>3</th>\n",
       "      <td>Python, Django, MySQL</td>\n",
       "      <td>https://example.com/python-portfolio</td>\n",
       "    </tr>\n",
       "    <tr>\n",
       "      <th>4</th>\n",
       "      <td>Java, Spring Boot, Oracle</td>\n",
       "      <td>https://example.com/java-portfolio</td>\n",
       "    </tr>\n",
       "    <tr>\n",
       "      <th>5</th>\n",
       "      <td>Flutter, Firebase, GraphQL</td>\n",
       "      <td>https://example.com/flutter-portfolio</td>\n",
       "    </tr>\n",
       "    <tr>\n",
       "      <th>6</th>\n",
       "      <td>WordPress, PHP, MySQL</td>\n",
       "      <td>https://example.com/wordpress-portfolio</td>\n",
       "    </tr>\n",
       "    <tr>\n",
       "      <th>7</th>\n",
       "      <td>Magento, PHP, MySQL</td>\n",
       "      <td>https://example.com/magento-portfolio</td>\n",
       "    </tr>\n",
       "    <tr>\n",
       "      <th>8</th>\n",
       "      <td>React Native, Node.js, MongoDB</td>\n",
       "      <td>https://example.com/react-native-portfolio</td>\n",
       "    </tr>\n",
       "    <tr>\n",
       "      <th>9</th>\n",
       "      <td>iOS, Swift, Core Data</td>\n",
       "      <td>https://example.com/ios-portfolio</td>\n",
       "    </tr>\n",
       "    <tr>\n",
       "      <th>10</th>\n",
       "      <td>Android, Java, Room Persistence</td>\n",
       "      <td>https://example.com/android-portfolio</td>\n",
       "    </tr>\n",
       "    <tr>\n",
       "      <th>11</th>\n",
       "      <td>Kotlin, Android, Firebase</td>\n",
       "      <td>https://example.com/kotlin-android-portfolio</td>\n",
       "    </tr>\n",
       "    <tr>\n",
       "      <th>12</th>\n",
       "      <td>Android TV, Kotlin, Android NDK</td>\n",
       "      <td>https://example.com/android-tv-portfolio</td>\n",
       "    </tr>\n",
       "    <tr>\n",
       "      <th>13</th>\n",
       "      <td>iOS, Swift, ARKit</td>\n",
       "      <td>https://example.com/ios-ar-portfolio</td>\n",
       "    </tr>\n",
       "    <tr>\n",
       "      <th>14</th>\n",
       "      <td>Cross-platform, Xamarin, Azure</td>\n",
       "      <td>https://example.com/xamarin-portfolio</td>\n",
       "    </tr>\n",
       "    <tr>\n",
       "      <th>15</th>\n",
       "      <td>Backend, Kotlin, Spring Boot</td>\n",
       "      <td>https://example.com/kotlin-backend-portfolio</td>\n",
       "    </tr>\n",
       "    <tr>\n",
       "      <th>16</th>\n",
       "      <td>Frontend, TypeScript, Angular</td>\n",
       "      <td>https://example.com/typescript-frontend-portfolio</td>\n",
       "    </tr>\n",
       "    <tr>\n",
       "      <th>17</th>\n",
       "      <td>Full-stack, JavaScript, Express.js</td>\n",
       "      <td>https://example.com/full-stack-js-portfolio</td>\n",
       "    </tr>\n",
       "    <tr>\n",
       "      <th>18</th>\n",
       "      <td>Machine Learning, Python, TensorFlow</td>\n",
       "      <td>https://example.com/ml-python-portfolio</td>\n",
       "    </tr>\n",
       "    <tr>\n",
       "      <th>19</th>\n",
       "      <td>DevOps, Jenkins, Docker</td>\n",
       "      <td>https://example.com/devops-portfolio</td>\n",
       "    </tr>\n",
       "  </tbody>\n",
       "</table>\n",
       "</div>"
      ],
      "text/plain": [
       "                               Techstack  \\\n",
       "0                React, Node.js, MongoDB   \n",
       "1               Angular,.NET, SQL Server   \n",
       "2      Vue.js, Ruby on Rails, PostgreSQL   \n",
       "3                  Python, Django, MySQL   \n",
       "4              Java, Spring Boot, Oracle   \n",
       "5             Flutter, Firebase, GraphQL   \n",
       "6                  WordPress, PHP, MySQL   \n",
       "7                    Magento, PHP, MySQL   \n",
       "8         React Native, Node.js, MongoDB   \n",
       "9                  iOS, Swift, Core Data   \n",
       "10       Android, Java, Room Persistence   \n",
       "11             Kotlin, Android, Firebase   \n",
       "12       Android TV, Kotlin, Android NDK   \n",
       "13                     iOS, Swift, ARKit   \n",
       "14        Cross-platform, Xamarin, Azure   \n",
       "15          Backend, Kotlin, Spring Boot   \n",
       "16         Frontend, TypeScript, Angular   \n",
       "17    Full-stack, JavaScript, Express.js   \n",
       "18  Machine Learning, Python, TensorFlow   \n",
       "19               DevOps, Jenkins, Docker   \n",
       "\n",
       "                                                Links  \n",
       "0                 https://example.com/react-portfolio  \n",
       "1               https://example.com/angular-portfolio  \n",
       "2                   https://example.com/vue-portfolio  \n",
       "3                https://example.com/python-portfolio  \n",
       "4                  https://example.com/java-portfolio  \n",
       "5               https://example.com/flutter-portfolio  \n",
       "6             https://example.com/wordpress-portfolio  \n",
       "7               https://example.com/magento-portfolio  \n",
       "8          https://example.com/react-native-portfolio  \n",
       "9                   https://example.com/ios-portfolio  \n",
       "10              https://example.com/android-portfolio  \n",
       "11       https://example.com/kotlin-android-portfolio  \n",
       "12           https://example.com/android-tv-portfolio  \n",
       "13               https://example.com/ios-ar-portfolio  \n",
       "14              https://example.com/xamarin-portfolio  \n",
       "15       https://example.com/kotlin-backend-portfolio  \n",
       "16  https://example.com/typescript-frontend-portfolio  \n",
       "17        https://example.com/full-stack-js-portfolio  \n",
       "18            https://example.com/ml-python-portfolio  \n",
       "19               https://example.com/devops-portfolio  "
      ]
     },
     "execution_count": 12,
     "metadata": {},
     "output_type": "execute_result"
    }
   ],
   "source": [
    "import pandas as pd\n",
    "\n",
    "df=pd.read_csv(\"my_portfolio.csv\")\n",
    "df"
   ]
  },
  {
   "cell_type": "code",
   "execution_count": 20,
   "id": "115857eb",
   "metadata": {},
   "outputs": [],
   "source": [
    "import chromadb\n",
    "import uuid\n",
    "client = chromadb.PersistentClient()\n",
    "client.delete_collection(name=\"portfolio\")\n",
    "\n",
    "collection= client.create_collection(name=\"portfolio\")\n",
    "\n",
    "if not collection.count():\n",
    "    for _, row in df.iterrows():\n",
    "        collection.add(documents=row[\"Techstack\"],\n",
    "                       metadatas={\"links\": row[\"Links\"]},\n",
    "                       ids=[str(uuid.uuid4())])\n"
   ]
  },
  {
   "cell_type": "code",
   "execution_count": 22,
   "id": "acfc8db7",
   "metadata": {},
   "outputs": [
    {
     "data": {
      "text/plain": [
       "[[{'links': 'https://example.com/ml-python-portfolio'},\n",
       "  {'links': 'https://example.com/python-portfolio'}],\n",
       " [{'links': 'https://example.com/react-portfolio'},\n",
       "  {'links': 'https://example.com/react-native-portfolio'}]]"
      ]
     },
     "execution_count": 22,
     "metadata": {},
     "output_type": "execute_result"
    }
   ],
   "source": [
    "links=collection.query(query_texts=[\"Experience in Python\",\"Experience in React\"],n_results=2).get('metadatas')\n",
    "links"
   ]
  },
  {
   "cell_type": "code",
   "execution_count": 24,
   "id": "5b0e0c00",
   "metadata": {},
   "outputs": [
    {
     "data": {
      "text/plain": [
       "['Strong foundation in programming concepts, data structures, and algorithms',\n",
       " 'Familiarity with web development technologies (HTML, CSS, JavaScript)',\n",
       " 'Exposure to front-end frameworks like React, Angular, or Vue.js is a plus',\n",
       " 'Basic understanding of REST APIs or CRUD operations',\n",
       " 'Good communication skills and a proactive mindset']"
      ]
     },
     "execution_count": 24,
     "metadata": {},
     "output_type": "execute_result"
    }
   ],
   "source": [
    "job= json_res\n",
    "job['skills']"
   ]
  },
  {
   "cell_type": "code",
   "execution_count": 26,
   "id": "9fd0ba7b",
   "metadata": {},
   "outputs": [
    {
     "data": {
      "text/plain": [
       "{'role': 'Software Engineer I, Internal Tools (Frontend)',\n",
       " 'experience': '1-2 years',\n",
       " 'skills': ['Strong foundation in programming concepts, data structures, and algorithms',\n",
       "  'Familiarity with web development technologies (HTML, CSS, JavaScript)',\n",
       "  'Exposure to front-end frameworks like React, Angular, or Vue.js is a plus',\n",
       "  'Basic understanding of REST APIs or CRUD operations',\n",
       "  'Good communication skills and a proactive mindset'],\n",
       " 'description': 'Assist in building and improving web-based internal tools used by various teams at Coursera. Write clean, efficient, and maintainable code with support from your team. Work with product managers and other engineers to understand user needs and deliver solutions. Learn and apply best practices for full-stack development, including front-end and back-end systems. Help maintain documentation, fix bugs, and test features to ensure quality. Contribute to team discussions and share your ideas during design and planning phases.'}"
      ]
     },
     "execution_count": 26,
     "metadata": {},
     "output_type": "execute_result"
    }
   ],
   "source": [
    "job"
   ]
  },
  {
   "cell_type": "code",
   "execution_count": 27,
   "id": "2b1428dd",
   "metadata": {},
   "outputs": [
    {
     "name": "stdout",
     "output_type": "stream",
     "text": [
      "Subject: Application for Software Engineer I, Internal Tools (Frontend) Role\n",
      "\n",
      "Dear Hiring Manager,\n",
      "\n",
      "I'm excited to express my interest in the Software Engineer I, Internal Tools (Frontend) position at Coursera. With a strong foundation in programming concepts, data structures, and algorithms, I'm confident in my ability to contribute to building and improving web-based internal tools.\n",
      "\n",
      "As a final-year Integrated M.Tech student in Computer Science and Engineering, I've had the opportunity to develop a range of skills relevant to this role. My experience as a Data Engineering and MLOps Intern at Intel Corporation has given me hands-on experience in building enterprise-grade CI/CD MLOps pipelines, automating data quality checks, and developing scalable ingestion and transformation pipelines.\n",
      "\n",
      "In particular, I've worked on projects that demonstrate my proficiency in frontend development, including:\n",
      "\n",
      "* Building a GitHub Webhook Monitoring System (https://github.com/ektagoel-12/webhook-repo)\n",
      "* Developing an Audio-to-Text Punctuation Prediction system (https://github.com/ektagoel-12/Python-Projects/tree/main/Audio_to_test_punctuation_prediction)\n",
      "\n",
      "My personal portfolio (https://ektagoel.site/) showcases my capabilities in full-stack development, including frontend and backend systems. I'm excited about the opportunity to apply my skills and experience to contribute to Coursera's internal tools.\n",
      "\n",
      "I'm confident that my strong communication skills, proactive mindset, and ability to learn and apply best practices for full-stack development make me a strong fit for this role. I'm excited about the opportunity to work with product managers and other engineers to understand user needs and deliver solutions.\n",
      "\n",
      "Thank you for considering my application. I look forward to the opportunity to discuss my qualifications further.\n",
      "\n",
      "Best regards,\n",
      "Ekta Goel\n"
     ]
    }
   ],
   "source": [
    "prompt_email = PromptTemplate.from_template(\n",
    "        \"\"\"\n",
    "        ### JOB DESCRIPTION:\n",
    "        {job_description}\n",
    "\n",
    "        ### INSTRUCTION:\n",
    "        You are Ekta Goel, a final-year Integrated M.Tech student specializing in Computer Science and Engineering, currently interning at Intel Corporation as a Data Engineering and MLOps Intern. \n",
    "\n",
    "        You are writing a cold email expressing interest in the role described above. Highlight your hands-on experience in:\n",
    "\n",
    "        - Building enterprise-grade CI/CD MLOps pipelines using Streamlit, GitHub Actions, and Databricks CLI.\n",
    "        - Automating data quality checks with Snowflake and Python (1M+ records), reducing manual work by 70%.\n",
    "        - Developing LLM-based data extraction pipelines using LangChain and Trafilatura.\n",
    "        - Constructing end-to-end ML/NLP pipelines using Whisper ASR and BERT, achieving 95.4% accuracy.\n",
    "        - Creating scalable ingestion and transformation pipelines with Azure Data Factory, Snowflake, and Databricks.\n",
    "        - Engineering real-time monitoring tools and approval portals using PowerApps, MongoDB, Flask, and REST APIs.\n",
    "\n",
    "        Also include links to relevant projects and portfolios that showcase your capability:\n",
    "        - GitHub Webhook Monitoring System: https://github.com/ektagoel-12/webhook-repo  \n",
    "        - Audio-to-Text Punctuation Prediction: https://github.com/ektagoel-12/Python-Projects/tree/main/Audio_to_test_punctuation_prediction  \n",
    "        - Personal Portfolio: https://ektagoel.site/\n",
    "\n",
    "        Write a concise, professional cold email tailored to the job description. You are not representing any company—just showcasing your individual capabilities and interest in the position.\n",
    "\n",
    "        ### EMAIL (NO PREAMBLE):\n",
    "        \n",
    "        \"\"\"\n",
    "        )\n",
    "\n",
    "chain_email = prompt_email | llm\n",
    "res = chain_email.invoke({\"job_description\": str(job), \"link_list\": links})\n",
    "print(res.content)"
   ]
  },
  {
   "cell_type": "code",
   "execution_count": null,
   "id": "a7220e2f",
   "metadata": {},
   "outputs": [],
   "source": []
  }
 ],
 "metadata": {
  "kernelspec": {
   "display_name": "job_outreach_env",
   "language": "python",
   "name": "python3"
  },
  "language_info": {
   "codemirror_mode": {
    "name": "ipython",
    "version": 3
   },
   "file_extension": ".py",
   "mimetype": "text/x-python",
   "name": "python",
   "nbconvert_exporter": "python",
   "pygments_lexer": "ipython3",
   "version": "3.10.2"
  }
 },
 "nbformat": 4,
 "nbformat_minor": 5
}
